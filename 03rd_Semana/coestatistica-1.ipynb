{
 "cells": [
  {
   "cell_type": "code",
   "execution_count": 1,
   "metadata": {},
   "outputs": [],
   "source": [
    "import pandas as pd\n",
    "import numpy as np\n",
    "import scipy as sp\n",
    "import json\n",
    "\n",
    "import seaborn as sns\n",
    "import matplotlib.pyplot as plt\n",
    "\n"
   ]
  },
  {
   "cell_type": "code",
   "execution_count": 2,
   "metadata": {},
   "outputs": [
    {
     "data": {
      "image/png": "[encoded data removed]",
      "text/plain": [
       "<Figure size 864x72 with 1 Axes>"
      ]
     },
     "metadata": {
      "needs_background": "light"
     },
     "output_type": "display_data"
    }
   ],
   "source": [
    "sns.palplot(sns.color_palette(\"Paired\"))\n",
    "plt.style.use('seaborn')"
   ]
  },
  {
   "cell_type": "code",
   "execution_count": 3,
   "metadata": {},
   "outputs": [],
   "source": [
    "import warnings\n",
    "warnings.simplefilter('ignore')"
   ]
  },
  {
   "cell_type": "code",
   "execution_count": 4,
   "metadata": {},
   "outputs": [],
   "source": [
    "credito_df = pd.read_csv('desafio1.csv', index_col='RowNumber')"
   ]
  },
  {
   "cell_type": "code",
   "execution_count": 5,
   "metadata": {},
   "outputs": [],
   "source": [
    "subm_json = pd.read_json('submission.json')"
   ]
  },
  {
   "cell_type": "markdown",
   "metadata": {},
   "source": [
    "## Analise do Dataframe"
   ]
  },
  {
   "cell_type": "code",
   "execution_count": 6,
   "metadata": {},
   "outputs": [
    {
     "data": {
      "text/html": [
       "<div>\n",
       "<style scoped>\n",
       "    .dataframe tbody tr th:only-of-type {\n",
       "        vertical-align: middle;\n",
       "    }\n",
       "\n",
       "    .dataframe tbody tr th {\n",
       "        vertical-align: top;\n",
       "    }\n",
       "\n",
       "    .dataframe thead th {\n",
       "        text-align: right;\n",
       "    }\n",
       "</style>\n",
       "<table border=\"1\" class=\"dataframe\">\n",
       "  <thead>\n",
       "    <tr style=\"text-align: right;\">\n",
       "      <th></th>\n",
       "      <th>pontuacao_credito</th>\n",
       "      <th>idade</th>\n",
       "      <th>nivel_estabilidade</th>\n",
       "      <th>saldo_conta</th>\n",
       "      <th>numero_produtos</th>\n",
       "      <th>possui_cartao_de_credito</th>\n",
       "      <th>membro_ativo</th>\n",
       "    </tr>\n",
       "  </thead>\n",
       "  <tbody>\n",
       "    <tr>\n",
       "      <th>count</th>\n",
       "      <td>7000.000000</td>\n",
       "      <td>7000.000000</td>\n",
       "      <td>7000.000000</td>\n",
       "      <td>7000.000000</td>\n",
       "      <td>7000.000000</td>\n",
       "      <td>7000.000000</td>\n",
       "      <td>7000.000000</td>\n",
       "    </tr>\n",
       "    <tr>\n",
       "      <th>mean</th>\n",
       "      <td>649.787000</td>\n",
       "      <td>38.892714</td>\n",
       "      <td>5.010286</td>\n",
       "      <td>76471.883751</td>\n",
       "      <td>1.526000</td>\n",
       "      <td>0.703286</td>\n",
       "      <td>0.512143</td>\n",
       "    </tr>\n",
       "    <tr>\n",
       "      <th>std</th>\n",
       "      <td>97.046279</td>\n",
       "      <td>10.465562</td>\n",
       "      <td>2.887500</td>\n",
       "      <td>62403.383911</td>\n",
       "      <td>0.583047</td>\n",
       "      <td>0.456842</td>\n",
       "      <td>0.499888</td>\n",
       "    </tr>\n",
       "    <tr>\n",
       "      <th>min</th>\n",
       "      <td>350.000000</td>\n",
       "      <td>18.000000</td>\n",
       "      <td>0.000000</td>\n",
       "      <td>0.000000</td>\n",
       "      <td>1.000000</td>\n",
       "      <td>0.000000</td>\n",
       "      <td>0.000000</td>\n",
       "    </tr>\n",
       "    <tr>\n",
       "      <th>25%</th>\n",
       "      <td>582.000000</td>\n",
       "      <td>32.000000</td>\n",
       "      <td>3.000000</td>\n",
       "      <td>0.000000</td>\n",
       "      <td>1.000000</td>\n",
       "      <td>0.000000</td>\n",
       "      <td>0.000000</td>\n",
       "    </tr>\n",
       "    <tr>\n",
       "      <th>50%</th>\n",
       "      <td>651.000000</td>\n",
       "      <td>37.000000</td>\n",
       "      <td>5.000000</td>\n",
       "      <td>97277.130000</td>\n",
       "      <td>1.000000</td>\n",
       "      <td>1.000000</td>\n",
       "      <td>1.000000</td>\n",
       "    </tr>\n",
       "    <tr>\n",
       "      <th>75%</th>\n",
       "      <td>717.000000</td>\n",
       "      <td>44.000000</td>\n",
       "      <td>7.250000</td>\n",
       "      <td>127537.155000</td>\n",
       "      <td>2.000000</td>\n",
       "      <td>1.000000</td>\n",
       "      <td>1.000000</td>\n",
       "    </tr>\n",
       "    <tr>\n",
       "      <th>max</th>\n",
       "      <td>850.000000</td>\n",
       "      <td>92.000000</td>\n",
       "      <td>10.000000</td>\n",
       "      <td>250898.090000</td>\n",
       "      <td>4.000000</td>\n",
       "      <td>1.000000</td>\n",
       "      <td>1.000000</td>\n",
       "    </tr>\n",
       "  </tbody>\n",
       "</table>\n",
       "</div>"
      ],
      "text/plain": [
       "       pontuacao_credito        idade  nivel_estabilidade    saldo_conta  \\\n",
       "count        7000.000000  7000.000000         7000.000000    7000.000000   \n",
       "mean          649.787000    38.892714            5.010286   76471.883751   \n",
       "std            97.046279    10.465562            2.887500   62403.383911   \n",
       "min           350.000000    18.000000            0.000000       0.000000   \n",
       "25%           582.000000    32.000000            3.000000       0.000000   \n",
       "50%           651.000000    37.000000            5.000000   97277.130000   \n",
       "75%           717.000000    44.000000            7.250000  127537.155000   \n",
       "max           850.000000    92.000000           10.000000  250898.090000   \n",
       "\n",
       "       numero_produtos  possui_cartao_de_credito  membro_ativo  \n",
       "count      7000.000000               7000.000000   7000.000000  \n",
       "mean          1.526000                  0.703286      0.512143  \n",
       "std           0.583047                  0.456842      0.499888  \n",
       "min           1.000000                  0.000000      0.000000  \n",
       "25%           1.000000                  0.000000      0.000000  \n",
       "50%           1.000000                  1.000000      1.000000  \n",
       "75%           2.000000                  1.000000      1.000000  \n",
       "max           4.000000                  1.000000      1.000000  "
      ]
     },
     "execution_count": 6,
     "metadata": {},
     "output_type": "execute_result"
    }
   ],
   "source": [
    "credito_df.describe()"
   ]
  },
  {
   "cell_type": "code",
   "execution_count": 7,
   "metadata": {},
   "outputs": [
    {
     "name": "stdout",
     "output_type": "stream",
     "text": [
      "<class 'pandas.core.frame.DataFrame'>\n",
      "Int64Index: 7000 entries, 1 to 7000\n",
      "Data columns (total 11 columns):\n",
      " #   Column                    Non-Null Count  Dtype  \n",
      "---  ------                    --------------  -----  \n",
      " 0   id                        7000 non-null   object \n",
      " 1   sobrenome                 7000 non-null   object \n",
      " 2   pontuacao_credito         7000 non-null   int64  \n",
      " 3   estado_residencia         7000 non-null   object \n",
      " 4   genero                    7000 non-null   object \n",
      " 5   idade                     7000 non-null   int64  \n",
      " 6   nivel_estabilidade        7000 non-null   int64  \n",
      " 7   saldo_conta               7000 non-null   float64\n",
      " 8   numero_produtos           7000 non-null   int64  \n",
      " 9   possui_cartao_de_credito  7000 non-null   int64  \n",
      " 10  membro_ativo              7000 non-null   int64  \n",
      "dtypes: float64(1), int64(6), object(4)\n",
      "memory usage: 656.2+ KB\n"
     ]
    }
   ],
   "source": [
    "credito_df.info()"
   ]
  },
  {
   "cell_type": "code",
   "execution_count": 8,
   "metadata": {},
   "outputs": [
    {
     "data": {
      "text/html": [
       "<div>\n",
       "<style scoped>\n",
       "    .dataframe tbody tr th:only-of-type {\n",
       "        vertical-align: middle;\n",
       "    }\n",
       "\n",
       "    .dataframe tbody tr th {\n",
       "        vertical-align: top;\n",
       "    }\n",
       "\n",
       "    .dataframe thead th {\n",
       "        text-align: right;\n",
       "    }\n",
       "</style>\n",
       "<table border=\"1\" class=\"dataframe\">\n",
       "  <thead>\n",
       "    <tr style=\"text-align: right;\">\n",
       "      <th></th>\n",
       "      <th>pontuacao_credito</th>\n",
       "      <th>idade</th>\n",
       "      <th>nivel_estabilidade</th>\n",
       "      <th>saldo_conta</th>\n",
       "      <th>numero_produtos</th>\n",
       "      <th>possui_cartao_de_credito</th>\n",
       "      <th>membro_ativo</th>\n",
       "    </tr>\n",
       "  </thead>\n",
       "  <tbody>\n",
       "    <tr>\n",
       "      <th>pontuacao_credito</th>\n",
       "      <td>1.000000</td>\n",
       "      <td>-0.002839</td>\n",
       "      <td>0.007233</td>\n",
       "      <td>0.009761</td>\n",
       "      <td>0.000996</td>\n",
       "      <td>-0.007987</td>\n",
       "      <td>0.033992</td>\n",
       "    </tr>\n",
       "    <tr>\n",
       "      <th>idade</th>\n",
       "      <td>-0.002839</td>\n",
       "      <td>1.000000</td>\n",
       "      <td>-0.002389</td>\n",
       "      <td>0.027459</td>\n",
       "      <td>-0.040531</td>\n",
       "      <td>-0.010335</td>\n",
       "      <td>0.093664</td>\n",
       "    </tr>\n",
       "    <tr>\n",
       "      <th>nivel_estabilidade</th>\n",
       "      <td>0.007233</td>\n",
       "      <td>-0.002389</td>\n",
       "      <td>1.000000</td>\n",
       "      <td>-0.020527</td>\n",
       "      <td>0.018088</td>\n",
       "      <td>0.036107</td>\n",
       "      <td>-0.029980</td>\n",
       "    </tr>\n",
       "    <tr>\n",
       "      <th>saldo_conta</th>\n",
       "      <td>0.009761</td>\n",
       "      <td>0.027459</td>\n",
       "      <td>-0.020527</td>\n",
       "      <td>1.000000</td>\n",
       "      <td>-0.303407</td>\n",
       "      <td>-0.019398</td>\n",
       "      <td>-0.006482</td>\n",
       "    </tr>\n",
       "    <tr>\n",
       "      <th>numero_produtos</th>\n",
       "      <td>0.000996</td>\n",
       "      <td>-0.040531</td>\n",
       "      <td>0.018088</td>\n",
       "      <td>-0.303407</td>\n",
       "      <td>1.000000</td>\n",
       "      <td>-0.007240</td>\n",
       "      <td>0.007005</td>\n",
       "    </tr>\n",
       "    <tr>\n",
       "      <th>possui_cartao_de_credito</th>\n",
       "      <td>-0.007987</td>\n",
       "      <td>-0.010335</td>\n",
       "      <td>0.036107</td>\n",
       "      <td>-0.019398</td>\n",
       "      <td>-0.007240</td>\n",
       "      <td>1.000000</td>\n",
       "      <td>-0.014564</td>\n",
       "    </tr>\n",
       "    <tr>\n",
       "      <th>membro_ativo</th>\n",
       "      <td>0.033992</td>\n",
       "      <td>0.093664</td>\n",
       "      <td>-0.029980</td>\n",
       "      <td>-0.006482</td>\n",
       "      <td>0.007005</td>\n",
       "      <td>-0.014564</td>\n",
       "      <td>1.000000</td>\n",
       "    </tr>\n",
       "  </tbody>\n",
       "</table>\n",
       "</div>"
      ],
      "text/plain": [
       "                          pontuacao_credito     idade  nivel_estabilidade  \\\n",
       "pontuacao_credito                  1.000000 -0.002839            0.007233   \n",
       "idade                             -0.002839  1.000000           -0.002389   \n",
       "nivel_estabilidade                 0.007233 -0.002389            1.000000   \n",
       "saldo_conta                        0.009761  0.027459           -0.020527   \n",
       "numero_produtos                    0.000996 -0.040531            0.018088   \n",
       "possui_cartao_de_credito          -0.007987 -0.010335            0.036107   \n",
       "membro_ativo                       0.033992  0.093664           -0.029980   \n",
       "\n",
       "                          saldo_conta  numero_produtos  \\\n",
       "pontuacao_credito            0.009761         0.000996   \n",
       "idade                        0.027459        -0.040531   \n",
       "nivel_estabilidade          -0.020527         0.018088   \n",
       "saldo_conta                  1.000000        -0.303407   \n",
       "numero_produtos             -0.303407         1.000000   \n",
       "possui_cartao_de_credito    -0.019398        -0.007240   \n",
       "membro_ativo                -0.006482         0.007005   \n",
       "\n",
       "                          possui_cartao_de_credito  membro_ativo  \n",
       "pontuacao_credito                        -0.007987      0.033992  \n",
       "idade                                    -0.010335      0.093664  \n",
       "nivel_estabilidade                        0.036107     -0.029980  \n",
       "saldo_conta                              -0.019398     -0.006482  \n",
       "numero_produtos                          -0.007240      0.007005  \n",
       "possui_cartao_de_credito                  1.000000     -0.014564  \n",
       "membro_ativo                             -0.014564      1.000000  "
      ]
     },
     "execution_count": 8,
     "metadata": {},
     "output_type": "execute_result"
    }
   ],
   "source": [
    "credito_df.corr()"
   ]
  },
  {
   "cell_type": "code",
   "execution_count": 9,
   "metadata": {},
   "outputs": [],
   "source": [
    "import ppscore\n",
    "ppscore_matrix = ppscore.matrix(credito_df)"
   ]
  },
  {
   "cell_type": "code",
   "execution_count": 10,
   "metadata": {},
   "outputs": [],
   "source": [
    "cmap = sns.cubehelix_palette(light=1, as_cmap=True)"
   ]
  },
  {
   "cell_type": "code",
   "execution_count": 11,
   "metadata": {},
   "outputs": [
    {
     "data": {
      "text/plain": [
       "<matplotlib.axes._subplots.AxesSubplot at 0x7fe5dd2fc850>"
      ]
     },
     "execution_count": 11,
     "metadata": {},
     "output_type": "execute_result"
    },
    {
     "data": {
      "image/png": "[encoded data removed]",
      "text/plain": [
       "<Figure size 576x396 with 2 Axes>"
      ]
     },
     "metadata": {},
     "output_type": "display_data"
    }
   ],
   "source": [
    "sns.heatmap(ppscore_matrix, cmap=cmap)"
   ]
  },
  {
   "cell_type": "code",
   "execution_count": 12,
   "metadata": {},
   "outputs": [
    {
     "data": {
      "text/plain": [
       "<matplotlib.axes._subplots.AxesSubplot at 0x7fe5d9209dd0>"
      ]
     },
     "execution_count": 12,
     "metadata": {},
     "output_type": "execute_result"
    },
    {
     "data": {
      "image/png": "[encoded data removed]",
      "text/plain": [
       "<Figure size 576x396 with 2 Axes>"
      ]
     },
     "metadata": {},
     "output_type": "display_data"
    }
   ],
   "source": [
    "sns.heatmap(credito_df.corr(), vmin=-1, cmap=cmap)"
   ]
  },
  {
   "cell_type": "markdown",
   "metadata": {},
   "source": [
    "## Analises estatisticas Media | Moda | Mediana | desvio padrão"
   ]
  },
  {
   "cell_type": "markdown",
   "metadata": {},
   "source": [
    "### Qual a media, moda, mediana e desvio padrão de credito por estado?"
   ]
  },
  {
   "cell_type": "markdown",
   "metadata": {},
   "source": [
    "#### Media"
   ]
  },
  {
   "cell_type": "code",
   "execution_count": 13,
   "metadata": {},
   "outputs": [
    {
     "data": {
      "text/html": [
       "<div>\n",
       "<style scoped>\n",
       "    .dataframe tbody tr th:only-of-type {\n",
       "        vertical-align: middle;\n",
       "    }\n",
       "\n",
       "    .dataframe tbody tr th {\n",
       "        vertical-align: top;\n",
       "    }\n",
       "\n",
       "    .dataframe thead th {\n",
       "        text-align: right;\n",
       "    }\n",
       "</style>\n",
       "<table border=\"1\" class=\"dataframe\">\n",
       "  <thead>\n",
       "    <tr style=\"text-align: right;\">\n",
       "      <th></th>\n",
       "      <th>media_pontuacao</th>\n",
       "    </tr>\n",
       "    <tr>\n",
       "      <th>estado_residencia</th>\n",
       "      <th></th>\n",
       "    </tr>\n",
       "  </thead>\n",
       "  <tbody>\n",
       "    <tr>\n",
       "      <th>PR</th>\n",
       "      <td>648.961294</td>\n",
       "    </tr>\n",
       "    <tr>\n",
       "      <th>RS</th>\n",
       "      <td>651.105143</td>\n",
       "    </tr>\n",
       "    <tr>\n",
       "      <th>SC</th>\n",
       "      <td>649.537653</td>\n",
       "    </tr>\n",
       "  </tbody>\n",
       "</table>\n",
       "</div>"
      ],
      "text/plain": [
       "                   media_pontuacao\n",
       "estado_residencia                 \n",
       "PR                      648.961294\n",
       "RS                      651.105143\n",
       "SC                      649.537653"
      ]
     },
     "execution_count": 13,
     "metadata": {},
     "output_type": "execute_result"
    }
   ],
   "source": [
    "media_pontuacao_estado = credito_df.groupby(['estado_residencia']).mean()\n",
    "media_pontuacao_estado = pd.DataFrame(media_pontuacao_estado['pontuacao_credito'])\n",
    "media_pontuacao_estado.columns = ['media_pontuacao']\n",
    "media_pontuacao_estado"
   ]
  },
  {
   "cell_type": "code",
   "execution_count": 14,
   "metadata": {},
   "outputs": [
    {
     "data": {
      "image/png": "[encoded data removed]",
      "text/plain": [
       "<Figure size 576x396 with 1 Axes>"
      ]
     },
     "metadata": {},
     "output_type": "display_data"
    }
   ],
   "source": [
    "sns.barplot(x=media_pontuacao_estado.index, y=media_pontuacao_estado['media_pontuacao'])\n",
    "plt.show()"
   ]
  },
  {
   "cell_type": "markdown",
   "metadata": {},
   "source": [
    "#### Mediana"
   ]
  },
  {
   "cell_type": "code",
   "execution_count": 15,
   "metadata": {},
   "outputs": [
    {
     "data": {
      "text/html": [
       "<div>\n",
       "<style scoped>\n",
       "    .dataframe tbody tr th:only-of-type {\n",
       "        vertical-align: middle;\n",
       "    }\n",
       "\n",
       "    .dataframe tbody tr th {\n",
       "        vertical-align: top;\n",
       "    }\n",
       "\n",
       "    .dataframe thead th {\n",
       "        text-align: right;\n",
       "    }\n",
       "</style>\n",
       "<table border=\"1\" class=\"dataframe\">\n",
       "  <thead>\n",
       "    <tr style=\"text-align: right;\">\n",
       "      <th></th>\n",
       "      <th>mediana_pontuacao</th>\n",
       "    </tr>\n",
       "    <tr>\n",
       "      <th>estado_residencia</th>\n",
       "      <th></th>\n",
       "    </tr>\n",
       "  </thead>\n",
       "  <tbody>\n",
       "    <tr>\n",
       "      <th>PR</th>\n",
       "      <td>650</td>\n",
       "    </tr>\n",
       "    <tr>\n",
       "      <th>RS</th>\n",
       "      <td>650</td>\n",
       "    </tr>\n",
       "    <tr>\n",
       "      <th>SC</th>\n",
       "      <td>653</td>\n",
       "    </tr>\n",
       "  </tbody>\n",
       "</table>\n",
       "</div>"
      ],
      "text/plain": [
       "                   mediana_pontuacao\n",
       "estado_residencia                   \n",
       "PR                               650\n",
       "RS                               650\n",
       "SC                               653"
      ]
     },
     "execution_count": 15,
     "metadata": {},
     "output_type": "execute_result"
    }
   ],
   "source": [
    "median_pontuacao_estado = credito_df.groupby(['estado_residencia']).median()['pontuacao_credito']\n",
    "median_pontuacao_estado = pd.DataFrame(median_pontuacao_estado)\n",
    "median_pontuacao_estado.columns = ['mediana_pontuacao']\n",
    "median_pontuacao_estado"
   ]
  },
  {
   "cell_type": "code",
   "execution_count": 16,
   "metadata": {},
   "outputs": [
    {
     "data": {
      "image/png": "[encoded data removed]",
      "text/plain": [
       "<Figure size 576x396 with 1 Axes>"
      ]
     },
     "metadata": {},
     "output_type": "display_data"
    }
   ],
   "source": [
    "sns.barplot(x=median_pontuacao_estado.index, y=median_pontuacao_estado['mediana_pontuacao'])\n",
    "plt.show()"
   ]
  },
  {
   "cell_type": "markdown",
   "metadata": {},
   "source": [
    "#### moda"
   ]
  },
  {
   "cell_type": "code",
   "execution_count": 17,
   "metadata": {},
   "outputs": [
    {
     "data": {
      "text/html": [
       "<div>\n",
       "<style scoped>\n",
       "    .dataframe tbody tr th:only-of-type {\n",
       "        vertical-align: middle;\n",
       "    }\n",
       "\n",
       "    .dataframe tbody tr th {\n",
       "        vertical-align: top;\n",
       "    }\n",
       "\n",
       "    .dataframe thead th {\n",
       "        text-align: right;\n",
       "    }\n",
       "</style>\n",
       "<table border=\"1\" class=\"dataframe\">\n",
       "  <thead>\n",
       "    <tr style=\"text-align: right;\">\n",
       "      <th></th>\n",
       "      <th></th>\n",
       "      <th>moda_pontuacao</th>\n",
       "    </tr>\n",
       "    <tr>\n",
       "      <th>estado_residencia</th>\n",
       "      <th></th>\n",
       "      <th></th>\n",
       "    </tr>\n",
       "  </thead>\n",
       "  <tbody>\n",
       "    <tr>\n",
       "      <th>PR</th>\n",
       "      <th>0</th>\n",
       "      <td>850</td>\n",
       "    </tr>\n",
       "    <tr>\n",
       "      <th>RS</th>\n",
       "      <th>0</th>\n",
       "      <td>850</td>\n",
       "    </tr>\n",
       "    <tr>\n",
       "      <th>SC</th>\n",
       "      <th>0</th>\n",
       "      <td>850</td>\n",
       "    </tr>\n",
       "  </tbody>\n",
       "</table>\n",
       "</div>"
      ],
      "text/plain": [
       "                     moda_pontuacao\n",
       "estado_residencia                  \n",
       "PR                0             850\n",
       "RS                0             850\n",
       "SC                0             850"
      ]
     },
     "execution_count": 17,
     "metadata": {},
     "output_type": "execute_result"
    }
   ],
   "source": [
    "mode_pontuacao_estado = credito_df.groupby(['estado_residencia'])['pontuacao_credito'].apply(pd.Series.mode)\n",
    "mode_pontuacao_estado = pd.DataFrame(mode_pontuacao_estado)\n",
    "mode_pontuacao_estado.columns = ['moda_pontuacao']\n",
    "mode_pontuacao_estado"
   ]
  },
  {
   "cell_type": "code",
   "execution_count": 18,
   "metadata": {},
   "outputs": [
    {
     "data": {
      "image/png": "[encoded data removed]",
      "text/plain": [
       "<Figure size 576x396 with 1 Axes>"
      ]
     },
     "metadata": {},
     "output_type": "display_data"
    }
   ],
   "source": [
    "sns.barplot(x=mode_pontuacao_estado.index, y=mode_pontuacao_estado['moda_pontuacao'])\n",
    "plt.show()"
   ]
  },
  {
   "cell_type": "markdown",
   "metadata": {},
   "source": [
    "#### Desvio padrão"
   ]
  },
  {
   "cell_type": "code",
   "execution_count": 19,
   "metadata": {},
   "outputs": [
    {
     "data": {
      "text/html": [
       "<div>\n",
       "<style scoped>\n",
       "    .dataframe tbody tr th:only-of-type {\n",
       "        vertical-align: middle;\n",
       "    }\n",
       "\n",
       "    .dataframe tbody tr th {\n",
       "        vertical-align: top;\n",
       "    }\n",
       "\n",
       "    .dataframe thead th {\n",
       "        text-align: right;\n",
       "    }\n",
       "</style>\n",
       "<table border=\"1\" class=\"dataframe\">\n",
       "  <thead>\n",
       "    <tr style=\"text-align: right;\">\n",
       "      <th></th>\n",
       "      <th>desvio_padrao_pontuacao</th>\n",
       "    </tr>\n",
       "    <tr>\n",
       "      <th>estado_residencia</th>\n",
       "      <th></th>\n",
       "    </tr>\n",
       "  </thead>\n",
       "  <tbody>\n",
       "    <tr>\n",
       "      <th>PR</th>\n",
       "      <td>98.607186</td>\n",
       "    </tr>\n",
       "    <tr>\n",
       "      <th>RS</th>\n",
       "      <td>95.136598</td>\n",
       "    </tr>\n",
       "    <tr>\n",
       "      <th>SC</th>\n",
       "      <td>97.233493</td>\n",
       "    </tr>\n",
       "  </tbody>\n",
       "</table>\n",
       "</div>"
      ],
      "text/plain": [
       "                   desvio_padrao_pontuacao\n",
       "estado_residencia                         \n",
       "PR                               98.607186\n",
       "RS                               95.136598\n",
       "SC                               97.233493"
      ]
     },
     "execution_count": 19,
     "metadata": {},
     "output_type": "execute_result"
    }
   ],
   "source": [
    "std_pontuacao_estado = credito_df.groupby(['estado_residencia'])['pontuacao_credito'].apply(sp.stats.tstd)\n",
    "std_pontuacao_estado = pd.DataFrame(std_pontuacao_estado)\n",
    "std_pontuacao_estado.columns = ['desvio_padrao_pontuacao']\n",
    "std_pontuacao_estado"
   ]
  },
  {
   "cell_type": "code",
   "execution_count": 20,
   "metadata": {},
   "outputs": [
    {
     "data": {
      "image/png": "[encoded data removed]",
      "text/plain": [
       "<Figure size 576x396 with 1 Axes>"
      ]
     },
     "metadata": {},
     "output_type": "display_data"
    }
   ],
   "source": [
    "sns.barplot(x=std_pontuacao_estado.index, y=std_pontuacao_estado['desvio_padrao_pontuacao'])\n",
    "plt.show()"
   ]
  },
  {
   "cell_type": "markdown",
   "metadata": {},
   "source": [
    "### Salvando os dados no Json"
   ]
  },
  {
   "cell_type": "code",
   "execution_count": 21,
   "metadata": {},
   "outputs": [],
   "source": [
    "subm_json_trans = subm_json.T\n",
    "subm_json_trans.reset_index(inplace=True)\n",
    "\n",
    "std_pontuacao_estado.reset_index(inplace=True)\n",
    "\n",
    "subm_json_trans = subm_json_trans.join(std_pontuacao_estado.set_index('estado_residencia'), on='index', lsuffix='_drop')"
   ]
  },
  {
   "cell_type": "code",
   "execution_count": 22,
   "metadata": {},
   "outputs": [],
   "source": [
    "media_pontuacao_estado.reset_index(inplace=True)\n",
    "subm_json_trans = subm_json_trans.join(media_pontuacao_estado.set_index('estado_residencia'), on='index', lsuffix='drop')"
   ]
  },
  {
   "cell_type": "code",
   "execution_count": 23,
   "metadata": {},
   "outputs": [],
   "source": [
    "mode_pontuacao_estado.reset_index(inplace=True)\n",
    "subm_json_trans = subm_json_trans.join(mode_pontuacao_estado.set_index('estado_residencia'), on='index', lsuffix='drop')"
   ]
  },
  {
   "cell_type": "code",
   "execution_count": 24,
   "metadata": {},
   "outputs": [],
   "source": [
    "median_pontuacao_estado.reset_index(inplace=True)\n",
    "subm_json_trans = subm_json_trans.join(median_pontuacao_estado.set_index('estado_residencia'), on='index', lsuffix='drop')"
   ]
  },
  {
   "cell_type": "code",
   "execution_count": 26,
   "metadata": {},
   "outputs": [],
   "source": [
    "submission = subm_json_trans[['index', 'media_pontuacao', 'moda_pontuacao', 'mediana_pontuacao', 'desvio_padrao_pontuacao']]\n",
    "submission.columns = ['estado', 'media', 'moda', 'mediana', 'desvio_padrao']\n",
    "submission.set_index('estado', inplace=True)"
   ]
  },
  {
   "cell_type": "code",
   "execution_count": 28,
   "metadata": {},
   "outputs": [],
   "source": [
    "with open('submission.json', 'w') as file:\n",
    "    file.write(json.dumps(submission.T.to_dict()))\n"
   ]
  },
  {
   "cell_type": "code",
   "execution_count": null,
   "metadata": {},
   "outputs": [],
   "source": []
  }
 ],
 "metadata": {
  "kernelspec": {
   "display_name": "Python 3",
   "language": "python",
   "name": "python3"
  },
  "language_info": {
   "codemirror_mode": {
    "name": "ipython",
    "version": 3
   },
   "file_extension": ".py",
   "mimetype": "text/x-python",
   "name": "python",
   "nbconvert_exporter": "python",
   "pygments_lexer": "ipython3",
   "version": "3.8.3"
  }
 },
 "nbformat": 4,
 "nbformat_minor": 4
}
